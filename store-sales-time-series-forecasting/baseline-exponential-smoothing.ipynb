{
 "cells": [
  {
   "cell_type": "code",
   "execution_count": 1,
   "id": "94d19acf",
   "metadata": {},
   "outputs": [],
   "source": [
    "import warnings\n",
    "import numpy as np\n",
    "import pandas as pd\n",
    "\n",
    "from tqdm import tqdm\n",
    "\n",
    "from darts import TimeSeries\n",
    "from darts.dataprocessing.transformers import (\n",
    "    Scaler,\n",
    "    StaticCovariatesTransformer,\n",
    "    InvertibleMapper,\n",
    "    MissingValuesFiller,\n",
    ")\n",
    "from darts.dataprocessing import Pipeline\n",
    "from darts.models import ExponentialSmoothing\n",
    "from darts.metrics import rmsle\n",
    "\n",
    "from sklearn.preprocessing import OneHotEncoder\n",
    "\n",
    "warnings.filterwarnings(\"ignore\")"
   ]
  },
  {
   "cell_type": "code",
   "execution_count": null,
   "id": "1a06dc06",
   "metadata": {},
   "outputs": [],
   "source": [
    "\n",
    "from tqdm import tqdm\n",
    "\n",
    "from darts import TimeSeries\n",
    "from darts.dataprocessing.transformers import (\n",
    "    Scaler,\n",
    "    StaticCovariatesTransformer,\n",
    "    InvertibleMapper,\n",
    "    MissingValuesFiller,\n",
    ")\n",
    "from darts.dataprocessing import Pipeline\n",
    "from darts.models import ExponentialSmoothing\n",
    "from darts.metrics import rmsle\n",
    "\n",
    "from sklearn.preprocessing import OneHotEncoder\n",
    "\n",
    "warnings.filterwarnings(\"ignore\")"
   ]
  },
  {
   "cell_type": "code",
   "execution_count": null,
   "id": "2b67c1d0",
   "metadata": {},
   "outputs": [],
   "source": [
    "train = pd.read_csv(\"data/train.csv\")\n",
    "test = pd.read_csv(\"data/test.csv\")"
   ]
  },
  {
   "cell_type": "code",
   "execution_count": null,
   "id": "ab359aba",
   "metadata": {},
   "outputs": [],
   "source": [
    "# going to build an exponential smoothing model for each store/family category\n",
    "# there's huge variation across them, not every store sells everything, etc.\n",
    "\n",
    "ALL_STORES = set(train.store_nbr)\n",
    "ALL_FAMILIES = set(train.family)"
   ]
  },
  {
   "cell_type": "code",
   "execution_count": null,
   "id": "2bf7a9b2",
   "metadata": {},
   "outputs": [],
   "source": [
    "# construct TimeSeries objects for each family\n",
    "# store is a static covariate, so each series has length 54 (number of stores)\n",
    "\n",
    "family_series = {}\n",
    "\n",
    "for family in ALL_FAMILIES:\n",
    "    train_fam = train.query(f\"family == '{family}'\")\n",
    "    \n",
    "    # creates one time series per store_nbr for the family\n",
    "    family_ts_list = TimeSeries.from_group_dataframe(\n",
    "        train_fam,\n",
    "        time_col=\"date\",\n",
    "        group_cols=[\"store_nbr\"],\n",
    "        value_cols=\"sales\",\n",
    "        freq=\"D\"\n",
    "    )\n",
    "    \n",
    "    for series in family_ts_list:\n",
    "        series = series.astype(np.float32)\n",
    "    \n",
    "    # order by store\n",
    "    family_ts_list = sorted(family_ts_list, key=lambda ts: int(ts.static_covariates_values()[0, 0]))\n",
    "    \n",
    "    family_series[family] = family_ts_list"
   ]
  },
  {
   "cell_type": "code",
   "execution_count": null,
   "id": "37e284ca",
   "metadata": {},
   "outputs": [],
   "source": [
    "# make pipelines\n",
    "# onehot encode store, log transform target var\n",
    "\n",
    "family_pipelines = {}\n",
    "family_ts_transformed = {}\n",
    "\n",
    "for key, series in family_series.items():\n",
    "    train_filler = MissingValuesFiller(verbose=False, n_jobs=-1, name=\"Fill NAs\")\n",
    "    cov_trans = StaticCovariatesTransformer(transformer_cat=OneHotEncoder, name=\"encoder\", verbose=False)\n",
    "    log_trans = InvertibleMapper(np.log1p, np.expm1, name=\"log-transform\", verbose=False)\n",
    "    scaler = Scaler(name=\"Scaling\", verbose=False)\n",
    "    \n",
    "    pipeline = Pipeline([train_filler, cov_trans, log_trans, scaler])\n",
    "    transformed = pipeline.fit_transform(series)\n",
    "\n",
    "    family_pipelines[key] = pipeline\n",
    "    family_ts_transformed[key] = transformed"
   ]
  },
  {
   "cell_type": "code",
   "execution_count": null,
   "id": "a340cb00",
   "metadata": {},
   "outputs": [],
   "source": [
    "def es_model_builder(training_list):\n",
    "    models = []\n",
    "    for data in training_list:\n",
    "        model = ExponentialSmoothing()\n",
    "        model.fit(data)\n",
    "        models.append(model)\n",
    "    return models\n",
    "\n",
    "\n",
    "def es_forecaster(models, n=16):\n",
    "    preds = []\n",
    "    for model in models:\n",
    "        pred = model.predict(n=n)\n",
    "        preds.append(pred)\n",
    "    return preds"
   ]
  },
  {
   "cell_type": "code",
   "execution_count": null,
   "id": "320f205d",
   "metadata": {},
   "outputs": [],
   "source": [
    "es_family_models = {}\n",
    "es_family_forecasts = {}\n",
    "\n",
    "for family in ALL_FAMILIES:\n",
    "    \n",
    "    transformed = family_ts_transformed[family]\n",
    "    training_data = [series[:-16] for series in transformed]\n",
    "    \n",
    "    es_models = es_model_builder(training_data)\n",
    "    forecasts = es_forecaster(es_models, n=16)\n",
    "    \n",
    "    es_family_models[family] = es_models\n",
    "    \n",
    "    # transform back\n",
    "    pipeline = family_pipelines[family]\n",
    "    es_family_forecasts[family] = pipeline.inverse_transform(forecasts, partial=True)\n",
    "    \n",
    "    # zero forecasting\n",
    "    # ..."
   ]
  },
  {
   "cell_type": "code",
   "execution_count": null,
   "id": "810e6b68",
   "metadata": {},
   "outputs": [],
   "source": [
    "flatten = lambda lst: [k for j in lst for k in j]\n",
    "\n",
    "true = flatten(family_series.values())\n",
    "forecasted = flatten(es_family_forecasts.values())\n",
    "\n",
    "score = rmsle(actual_series=true, pred_series=forecasted, inter_reduction=np.mean)\n",
    "score"
   ]
  },
  {
   "cell_type": "markdown",
   "id": "d4e74f9f",
   "metadata": {},
   "source": [
    "# Test Preds"
   ]
  },
  {
   "cell_type": "code",
   "execution_count": null,
   "id": "3492416e",
   "metadata": {},
   "outputs": [],
   "source": [
    "test_family_forecasts = {}\n",
    "\n",
    "for family in ALL_FAMILIES:\n",
    "    \n",
    "    transformed = family_ts_transformed[family]\n",
    "    \n",
    "    es_models = es_model_builder(transformed)\n",
    "    forecasts = es_forecaster(es_models, n=16)\n",
    "    \n",
    "    pipeline = family_pipelines[family]\n",
    "    test_family_forecasts[family] = pipeline.inverse_transform(forecasts, partial=True)"
   ]
  },
  {
   "cell_type": "code",
   "execution_count": null,
   "id": "29998b84",
   "metadata": {},
   "outputs": [],
   "source": [
    "test_preds = []\n",
    "\n",
    "for family, family_preds in test_family_forecasts.items():\n",
    "    for ts in family_preds:\n",
    "        store_nbr = ts.static_covariates_values()[0, 0]\n",
    "        for date, pred in zip(ts.time_index, ts.values()):\n",
    "            row = {\"store_nbr\": store_nbr, \"family\": family, \"date\": date, \"sales\": pred[0]}\n",
    "            test_preds.append(row)\n",
    "\n",
    "test_pred_frame = pd.DataFrame(test_preds)"
   ]
  },
  {
   "cell_type": "code",
   "execution_count": null,
   "id": "5614f0ab",
   "metadata": {},
   "outputs": [],
   "source": [
    "idx = [\"store_nbr\", \"family\", \"date\"]\n",
    "\n",
    "out = test.copy()\n",
    "out = out.set_index(idx)\n",
    "\n",
    "test_pred_frame[\"date\"] = test_pred_frame.date.apply(lambda x: x.strftime(\"%Y-%m-%d\"))\n",
    "test_pred_frame = test_pred_frame.set_index(idx)\n",
    "\n",
    "final = pd.concat((out, test_pred_frame), axis=1)"
   ]
  },
  {
   "cell_type": "code",
   "execution_count": null,
   "id": "05954f9d",
   "metadata": {},
   "outputs": [],
   "source": [
    "final[[\"id\", \"sales\"]].to_csv(\"submission.csv\", index=False)"
   ]
  }
 ],
 "metadata": {
  "kernelspec": {
   "display_name": "kaggle",
   "language": "python",
   "name": "python3"
  },
  "language_info": {
   "codemirror_mode": {
    "name": "ipython",
    "version": 3
   },
   "file_extension": ".py",
   "mimetype": "text/x-python",
   "name": "python",
   "nbconvert_exporter": "python",
   "pygments_lexer": "ipython3",
   "version": "3.9.13"
  },
  "vscode": {
   "interpreter": {
    "hash": "b763d7b292c40bbdb03aca1f034180c46eeef094c63c036325ca3db13d6361b2"
   }
  }
 },
 "nbformat": 4,
 "nbformat_minor": 5
}
