{
 "cells": [
  {
   "cell_type": "code",
   "execution_count": 48,
   "id": "94d19acf",
   "metadata": {},
   "outputs": [],
   "source": [
    "import warnings\n",
    "import numpy as np\n",
    "import pandas as pd\n",
    "\n",
    "from tqdm import tqdm\n",
    "\n",
    "from darts import TimeSeries\n",
    "from darts.dataprocessing.transformers import Scaler, StaticCovariatesTransformer, InvertibleMapper, MissingValuesFiller\n",
    "from darts.dataprocessing import Pipeline\n",
    "from darts.models import ExponentialSmoothing\n",
    "from darts.metrics import rmsle\n",
    "\n",
    "from sklearn.preprocessing import OneHotEncoder\n",
    "\n",
    "warnings.filterwarnings('ignore')"
   ]
  },
  {
   "cell_type": "code",
   "execution_count": 2,
   "id": "2b67c1d0",
   "metadata": {},
   "outputs": [],
   "source": [
    "train = pd.read_csv(\"data/train.csv\")\n",
    "test = pd.read_csv(\"data/test.csv\")"
   ]
  },
  {
   "cell_type": "code",
   "execution_count": 3,
   "id": "ab359aba",
   "metadata": {},
   "outputs": [],
   "source": [
    "# going to build an exponential smoothing model for each store/family category\n",
    "# there's huge variation across them, not every store sells everything, etc.\n",
    "\n",
    "ALL_STORES = set(train.store_nbr)\n",
    "ALL_FAMILIES = set(train.family)"
   ]
  },
  {
   "cell_type": "code",
   "execution_count": 4,
   "id": "2bf7a9b2",
   "metadata": {},
   "outputs": [],
   "source": [
    "# construct TimeSeries objects for each family\n",
    "# store is a static covariate, so each series has length 54 (number of stores)\n",
    "\n",
    "family_series = {}\n",
    "\n",
    "for family in ALL_FAMILIES:\n",
    "    train_fam = train.query(f\"family == '{family}'\")\n",
    "    \n",
    "    # creates one time series per store_nbr for the family\n",
    "    family_ts_list = TimeSeries.from_group_dataframe(\n",
    "        train_fam,\n",
    "        time_col=\"date\",\n",
    "        group_cols=[\"store_nbr\"],\n",
    "        value_cols=\"sales\",\n",
    "        freq=\"D\"\n",
    "    )\n",
    "    \n",
    "    for series in family_ts_list:\n",
    "        series = series.astype(np.float32)\n",
    "    \n",
    "    # order by store\n",
    "    family_ts_list = sorted(family_ts_list, key=lambda ts: int(ts.static_covariates_values()[0, 0]))\n",
    "    \n",
    "    family_series[family] = family_ts_list"
   ]
  },
  {
   "cell_type": "code",
   "execution_count": 39,
   "id": "37e284ca",
   "metadata": {},
   "outputs": [],
   "source": [
    "# make pipelines\n",
    "# onehot encode store, log transform target var\n",
    "\n",
    "family_pipelines = {}\n",
    "family_ts_transformed = {}\n",
    "\n",
    "for key, series in family_series.items():\n",
    "    train_filler = MissingValuesFiller(verbose=False, n_jobs=-1, name=\"Fill NAs\")\n",
    "    cov_trans = StaticCovariatesTransformer(transformer_cat=OneHotEncoder, name=\"encoder\", verbose=False)\n",
    "    log_trans = InvertibleMapper(np.log1p, np.expm1, name=\"log-transform\", verbose=False)\n",
    "    scaler = Scaler(name=\"Scaling\", verbose=False)\n",
    "    \n",
    "    pipeline = Pipeline([train_filler, cov_trans, log_trans, scaler])\n",
    "    transformed = pipeline.fit_transform(series)\n",
    "\n",
    "    family_pipelines[key] = pipeline\n",
    "    family_ts_transformed[key] = transformed"
   ]
  },
  {
   "cell_type": "code",
   "execution_count": 40,
   "id": "320f205d",
   "metadata": {},
   "outputs": [],
   "source": [
    "def es_model_builder(training_list):\n",
    "    models = []\n",
    "    for data in training_list:\n",
    "        model = ExponentialSmoothing()\n",
    "        model.fit(data)\n",
    "        models.append(model)\n",
    "    return models\n",
    "\n",
    "\n",
    "def es_forecaster(models, n=16):\n",
    "    preds = []\n",
    "    for model in models:\n",
    "        pred = model.predict(n=n)\n",
    "        preds.append(pred)\n",
    "    return preds\n",
    "\n",
    "\n",
    "es_family_models = {}\n",
    "es_family_forecasts = {}\n",
    "\n",
    "for family in ALL_FAMILIES:\n",
    "    \n",
    "    transformed = family_ts_transformed[family]\n",
    "    training_data = [series[:-16] for series in transformed]\n",
    "    \n",
    "    es_models = es_model_builder(training_data)\n",
    "    forecasts = es_forecaster(es_models)\n",
    "    \n",
    "    es_family_models[family] = es_models\n",
    "    \n",
    "    # transform back\n",
    "    pipeline = family_pipelines[family]\n",
    "    es_family_forecasts[family] = pipeline.inverse_transform(forecasts, partial=True)\n",
    "    \n",
    "    # zero forecasting\n",
    "    # ..."
   ]
  },
  {
   "cell_type": "code",
   "execution_count": 55,
   "id": "810e6b68",
   "metadata": {},
   "outputs": [],
   "source": [
    "flatten = lambda lst: [k for j in lst for k in j]\n",
    "\n",
    "true = flatten(family_series.values())\n",
    "forecasted = flatten(es_family_forecasts.values())\n",
    "\n",
    "score = rmsle(actual_series=true, pred_series=forecasted, inter_reduction=np.mean)"
   ]
  },
  {
   "cell_type": "code",
   "execution_count": 56,
   "id": "3492416e",
   "metadata": {},
   "outputs": [
    {
     "data": {
      "text/plain": [
       "0.3747182766566481"
      ]
     },
     "execution_count": 56,
     "metadata": {},
     "output_type": "execute_result"
    }
   ],
   "source": [
    "score"
   ]
  }
 ],
 "metadata": {
  "kernelspec": {
   "display_name": "Python 3 (ipykernel)",
   "language": "python",
   "name": "python3"
  },
  "language_info": {
   "codemirror_mode": {
    "name": "ipython",
    "version": 3
   },
   "file_extension": ".py",
   "mimetype": "text/x-python",
   "name": "python",
   "nbconvert_exporter": "python",
   "pygments_lexer": "ipython3",
   "version": "3.10.6"
  }
 },
 "nbformat": 4,
 "nbformat_minor": 5
}
